{
 "cells": [
  {
   "cell_type": "code",
   "execution_count": 45,
   "metadata": {
    "collapsed": false
   },
   "outputs": [
    {
     "name": "stdout",
     "output_type": "stream",
     "text": [
      "0.9.0\n"
     ]
    }
   ],
   "source": [
    "import gym\n",
    "import numpy as np\n",
    "import tensorflow as tf\n",
    "import random\n",
    "from __future__ import print_function\n",
    "\n",
    "print(tf.__version__) # running 0.9 right now unfortunately, will look for a newer docker machine myself or set it up"
   ]
  },
  {
   "cell_type": "code",
   "execution_count": 15,
   "metadata": {
    "collapsed": false
   },
   "outputs": [
    {
     "name": "stderr",
     "output_type": "stream",
     "text": [
      "[2018-10-13 21:40:17,000] Making new env: FrozenLake-v0\n"
     ]
    }
   ],
   "source": [
    "env = gym.make('FrozenLake-v0')\n",
    "\n",
    "tf.reset_default_graph()\n",
    "\n",
    "#input is a column\n",
    "inputs = tf.placeholder(shape=[None,env.observation_space.n], dtype=tf.float32)\n",
    "\n",
    "# Xavier initialization helps signals reach deep into the network\n",
    "# Check the difference between tensorflow variable and tensorflow get variable\n",
    "W = tf.get_variable(name=\"W\", dtype=tf.float32, shape=[env.observation_space.n, env.action_space.n], initializer = tf.contrib.layers.xavier_initializer())\n",
    "\n",
    "# This is a lower level way of accessing tensorflow variables\n",
    "# better to use \n",
    "b = tf.Variable(tf.zeros(shape=[env.action_space.n]))\n",
    "\n",
    "# We get the predicted Q out by multiplying our input with the weights of the network and then adding a bias term\n",
    "qpred = tf.add(tf.matmul(inputs,W),b)\n",
    "\n",
    "# Argmax over actions - first axis\n",
    "apred = tf.argmax(qpred, 1)\n",
    "\n",
    "#qtar = target value for Q\n",
    "qtar = tf.placeholder(shape=[1, env.action_space.n], dtype=tf.float32)\n",
    "loss = tf.reduce_sum(tf.square(qtar-qpred))"
   ]
  },
  {
   "cell_type": "code",
   "execution_count": 16,
   "metadata": {
    "collapsed": false
   },
   "outputs": [],
   "source": [
    "train = tf.train.AdamOptimizer(learning_rate=0.001)\n",
    "minimizer = train.minimize(loss)"
   ]
  },
  {
   "cell_type": "code",
   "execution_count": 46,
   "metadata": {
    "collapsed": false
   },
   "outputs": [],
   "source": [
    "# Training the neural network\n",
    "\n",
    "init = tf.initialize_all_variables()\n",
    "y = 0.5 #learning rate\n",
    "e = 0.3 #epsilon for greedy epsilon search strategy\n",
    "episodes = 10000\n",
    "\n",
    "\n",
    "#list to capture total steps and rewards per episodes\n",
    "slist = []\n",
    "rlist = []\n"
   ]
  },
  {
   "cell_type": "code",
   "execution_count": null,
   "metadata": {
    "collapsed": false
   },
   "outputs": [],
   "source": [
    "with tf.Session() as sess:\n",
    "    sess.run(init)\n",
    "    for i in range(episodes):\n",
    "        s = env.reset()\n",
    "        r_total = 0\n",
    "        while(True):\n",
    "            a_pred,q_pred = sess.run([apred,qpred],feed_dict={inputs:np.identity(env.observation_space.n)[s:s+1]}) #??\n",
    "            if np.random.uniform(low=0,high=1) < e:\n",
    "                a_pred[0] = env.action_space.sample()            \n",
    "            s_,r,t,_ = env.step(a_pred[0])  #action taken and new state 's_' is encountered with a feedback reward 'r'\n",
    "            if r==0: \n",
    "                if t==True:\n",
    "                    r=-5  #if hole make the reward more negative\n",
    "                else:\n",
    "                    r=-1  #if block is fine/frozen then give slight negative reward to optimise the path\n",
    "            if r==1:\n",
    "                    r=5       #good positive goat state reward\n",
    "\n",
    "            q_pred_new = sess.run(qpred,feed_dict={inputs:np.identity(env.observation_space.n)[s_:s_+1]})\n",
    "\n",
    "            #update the Q-target value for action taken\n",
    "            targetQ = q_pred\n",
    "            max_qpredn = np.max(q_pred_new)\n",
    "            targetQ[0,a_pred[0]] = r + y*max_qpredn\n",
    "            #this gives our targetQ\n",
    "\n",
    "            _ = sess.run(minimizer,feed_dict={inputs:np.identity(env.observation_space.n)[s:s+1],qtar:targetQ})\n",
    "            r_total+=r\n",
    "\n",
    "            s=s_\n",
    "            if t==True:\n",
    "                break\n",
    "    \n",
    "\n",
    "    s = env.reset()\n",
    "    env.render()\n",
    "    while(True):\n",
    "        a = sess.run(apred,feed_dict={inputs:np.identity(env.observation_space.n)[s:s+1]})\n",
    "        s_,r,t,_ = env.step(a[0])\n",
    "        env.render()\n",
    "        s = s_\n",
    "        if t==True:\n",
    "            break\n"
   ]
  },
  {
   "cell_type": "code",
   "execution_count": 42,
   "metadata": {
    "collapsed": false
   },
   "outputs": [
    {
     "name": "stdout",
     "output_type": "stream",
     "text": [
      "0.9.0\n"
     ]
    }
   ],
   "source": []
  },
  {
   "cell_type": "code",
   "execution_count": null,
   "metadata": {
    "collapsed": true
   },
   "outputs": [],
   "source": []
  },
  {
   "cell_type": "code",
   "execution_count": null,
   "metadata": {
    "collapsed": true
   },
   "outputs": [],
   "source": [
    "\n",
    "\n"
   ]
  }
 ],
 "metadata": {
  "kernelspec": {
   "display_name": "Python 2",
   "language": "python",
   "name": "python2"
  },
  "language_info": {
   "codemirror_mode": {
    "name": "ipython",
    "version": 2
   },
   "file_extension": ".py",
   "mimetype": "text/x-python",
   "name": "python",
   "nbconvert_exporter": "python",
   "pygments_lexer": "ipython2",
   "version": "2.7.12"
  }
 },
 "nbformat": 4,
 "nbformat_minor": 0
}
